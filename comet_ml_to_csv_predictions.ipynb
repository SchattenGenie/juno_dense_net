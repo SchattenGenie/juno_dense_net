{
 "cells": [
  {
   "cell_type": "code",
   "execution_count": null,
   "metadata": {},
   "outputs": [],
   "source": [
    "import comet_ml\n",
    "from comet_ml.api import API\n",
    "from collections import defaultdict\n",
    "import pandas as pd\n",
    "import numpy as np\n",
    "import os\n",
    "import pickle\n",
    "comet_api = API()\n",
    "\n",
    "types = [\"0\", \"3\", \"20\", \"23\"]\n",
    "energies = [\n",
    "    '0', '0.1', '0.2', '0.3', '0.4', '0.5', '0.6', '0.7', '0.8',\n",
    "    '0.9', '1', '10', '2', '3', '4', '5', '6', '7', '8', '9'\n",
    "]"
   ]
  },
  {
   "cell_type": "code",
   "execution_count": null,
   "metadata": {},
   "outputs": [],
   "source": [
    "def get_predictions_from_experiment(experiment_id):\n",
    "    exp = comet_api.get(\"schattengenie/juno/{}\".format(experiment_id))\n",
    "    # get predictions\n",
    "    asset_id = [a for a in exp.get_asset_list() if \"datatable_predictions\" in a[\"fileName\"]][0][\"assetId\"]\n",
    "    d = pickle.loads(exp.get_asset(asset_id), encoding='bytes')\n",
    "    # first experiments were without train_type, for them default train dataset was 0\n",
    "    train_type = [t for t in exp.get_parameters_summary() if \"train_type\" in t['name']]\n",
    "    if len(train_type) == 0:\n",
    "        train_type = \"0\"\n",
    "    else:\n",
    "        train_type = train_type[0][\"valueCurrent\"]\n",
    "    return train_type, d"
   ]
  },
  {
   "cell_type": "code",
   "execution_count": null,
   "metadata": {},
   "outputs": [],
   "source": [
    "def preprocess_energy_predictions_from_comet_to_pandas(d):\n",
    "    energy_predictions = defaultdict(list)\n",
    "\n",
    "    # concatenate predictions by the network\n",
    "    for energy in energies:\n",
    "        for type in types:\n",
    "            energy_predictions[energy].append(d[(type, energy)][:, 1])\n",
    "        energy_predictions[energy] = pd.DataFrame(np.array(energy_predictions[energy]).T, columns=[\"pred\" + t for t in types])\n",
    "\n",
    "    # add true column\n",
    "    for energy in energies:\n",
    "        # true energy is the same for all types of source(or I hope so)\n",
    "        energy_predictions[energy][\"true\"] = d[(\"0\", energy)][:, 0]\n",
    "    \n",
    "    return energy_predictions"
   ]
  },
  {
   "cell_type": "code",
   "execution_count": null,
   "metadata": {},
   "outputs": [],
   "source": [
    "experiment_id = \"fa5d69a09f5d43ad88f1be92f2352047\"\n",
    "train_type, d = get_predictions_from_experiment(experiment_id)\n",
    "energy_predictions_0 = preprocess_energy_predictions_from_comet_to_pandas(d)\n",
    "print(train_type)"
   ]
  },
  {
   "cell_type": "code",
   "execution_count": null,
   "metadata": {},
   "outputs": [],
   "source": [
    "experiment_id = \"891b664b298144bebc183b6c6e66089e\"\n",
    "train_type, d = get_predictions_from_experiment(experiment_id)\n",
    "energy_predictions_23 = preprocess_energy_predictions_from_comet_to_pandas(d)\n",
    "print(train_type)"
   ]
  },
  {
   "cell_type": "code",
   "execution_count": null,
   "metadata": {},
   "outputs": [],
   "source": [
    "experiment_id = \"a78d360794c74ccba1357532a047f9f2\"\n",
    "train_type, d = get_predictions_from_experiment(experiment_id)\n",
    "energy_predictions_20 = preprocess_energy_predictions_from_comet_to_pandas(d)\n",
    "print(train_type)"
   ]
  },
  {
   "cell_type": "code",
   "execution_count": null,
   "metadata": {},
   "outputs": [],
   "source": [
    "experiment_id = \"36428e6694554bd9854b29562e766b55\"\n",
    "train_type, d = get_predictions_from_experiment(experiment_id)\n",
    "energy_predictions_3 = preprocess_energy_predictions_from_comet_to_pandas(d)\n",
    "print(train_type)"
   ]
  },
  {
   "cell_type": "code",
   "execution_count": null,
   "metadata": {},
   "outputs": [],
   "source": [
    "predictions_by_train_dataset = {\n",
    "    \"0\": energy_predictions_0,\n",
    "    \"23\": energy_predictions_23,\n",
    "    \"20\": energy_predictions_20,\n",
    "    \"3\": energy_predictions_3\n",
    "}"
   ]
  },
  {
   "cell_type": "code",
   "execution_count": null,
   "metadata": {},
   "outputs": [],
   "source": [
    "# save predictions for each net\n",
    "for type in types:\n",
    "    path = os.path.abspath(\"./net_trained_on_{}\".format(type))\n",
    "    if not os.path.exists(os.path.expanduser(path)):\n",
    "        os.mkdir(os.path.expanduser(path))\n",
    "    for energy in energies:\n",
    "        predictions_by_train_dataset[type][energy].to_csv(os.path.join(path, \"{}MeV.csv\".format(energy)), index=False)"
   ]
  },
  {
   "cell_type": "code",
   "execution_count": null,
   "metadata": {},
   "outputs": [],
   "source": [
    "# save predictions by type\n",
    "path = os.path.abspath(\"./predictions\".format(type))\n",
    "if not os.path.exists(os.path.expanduser(path)):\n",
    "    os.mkdir(os.path.expanduser(path))\n",
    "for energy in energies:\n",
    "    predictions = []\n",
    "    # append predictions\n",
    "    for type in types:\n",
    "        predictions.append(predictions_by_train_dataset[type][energy][\"pred\" + type].values)\n",
    "    # append true\n",
    "    predictions.append(predictions_by_train_dataset[type][energy][\"true\"])\n",
    "    df = pd.DataFrame(np.array(predictions).T, columns=[\"pred\" + t for t in types] + [\"true\"])\n",
    "    df.to_csv(os.path.join(path, \"{}MeV.csv\".format(energy)), index=False)"
   ]
  },
  {
   "cell_type": "code",
   "execution_count": null,
   "metadata": {},
   "outputs": [],
   "source": []
  },
  {
   "cell_type": "code",
   "execution_count": null,
   "metadata": {},
   "outputs": [],
   "source": []
  }
 ],
 "metadata": {
  "kernelspec": {
   "display_name": "Python 3",
   "language": "python",
   "name": "python3"
  },
  "language_info": {
   "codemirror_mode": {
    "name": "ipython",
    "version": 3
   },
   "file_extension": ".py",
   "mimetype": "text/x-python",
   "name": "python",
   "nbconvert_exporter": "python",
   "pygments_lexer": "ipython3",
   "version": "3.6.10"
  }
 },
 "nbformat": 4,
 "nbformat_minor": 4
}
